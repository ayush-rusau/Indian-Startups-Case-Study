{
 "cells": [
  {
   "cell_type": "code",
   "execution_count": 81,
   "metadata": {},
   "outputs": [],
   "source": [
    "import csv\n",
    "import pandas as pd\n",
    "import numpy as np\n",
    "import matplotlib.pyplot as plt\n",
    "from collections import Counter "
   ]
  },
  {
   "cell_type": "markdown",
   "metadata": {},
   "source": [
    "### Indian city with highest number of fundings"
   ]
  },
  {
   "cell_type": "code",
   "execution_count": 96,
   "metadata": {
    "scrolled": false
   },
   "outputs": [
    {
     "name": "stdout",
     "output_type": "stream",
     "text": [
      "Bangalore 637\n",
      "Mumbai 449\n",
      "New Delhi 389\n",
      "Gurgaon 241\n",
      "Noida 79\n"
     ]
    },
    {
     "data": {
      "image/png": "[encoded data removed]",
      "text/plain": [
       "<Figure size 432x288 with 1 Axes>"
      ]
     },
     "metadata": {
      "needs_background": "light"
     },
     "output_type": "display_data"
    }
   ],
   "source": [
    "pd.options.mode.chained_assignment = None\n",
    "cities = {\"Bangalore\", \"Mumbai\", \"Gurgaon\", \"Noida\", \"New Delhi\"}\n",
    "with open(\"startup_funding.csv\") as file_obj:\n",
    "    reader = pd.read_csv(file_obj)\n",
    "    reader['CityLocation'].dropna(inplace = True)\n",
    "    reader['CityLocation'].replace(\"Delhi\", \"New Delhi\", inplace = True)\n",
    "    reader['CityLocation'].replace(\"bangalore\", \"Bangalore\", inplace = True)\n",
    "    location = reader['CityLocation']\n",
    "    location = list(map(str.strip, location))\n",
    "    location = list(map(str.rstrip, location))\n",
    "    d = {}\n",
    "    for i in location:\n",
    "        if('/' in i):\n",
    "            k = i.split('/')\n",
    "            k = list(map(str.strip, k))\n",
    "            k = list(map(str.rstrip, k))\n",
    "            for i in range(2):\n",
    "                if(k[i] in cities):\n",
    "                    if(k[i] in d):\n",
    "                        d[k[i]] += 1\n",
    "                    else:\n",
    "                        d[k[i]] = 1\n",
    "        else:\n",
    "            i = i.strip().rstrip()\n",
    "            if(i in cities):\n",
    "                if(i in d):\n",
    "                    d[i] += 1\n",
    "                else:\n",
    "                    d[i] = 1\n",
    "    x = []\n",
    "    y = []\n",
    "    for i in d:\n",
    "        print(i, d[i])\n",
    "        x.append(i)\n",
    "        y.append(d[i])\n",
    "    plt.bar(x, y)\n",
    "    plt.show()\n"
   ]
  },
  {
   "cell_type": "markdown",
   "metadata": {},
   "source": [
    "### Top Investors"
   ]
  },
  {
   "cell_type": "code",
   "execution_count": 87,
   "metadata": {
    "scrolled": false
   },
   "outputs": [
    {
     "name": "stdout",
     "output_type": "stream",
     "text": [
      "Sequoia Capital 52\n",
      "Accel Partners 44\n",
      "Saif Partners 37\n",
      "Blume Ventures 36\n",
      "Kalaari Capital 32\n"
     ]
    }
   ],
   "source": [
    "cities = {\"Bangalore\", \"Mumbai\", \"Gurgaon\", \"Noida\", \"New Delhi\"}\n",
    "with open(\"startup_funding.csv\") as file_obj:\n",
    "    reader = pd.read_csv(file_obj)\n",
    "    reader['CityLocation'].dropna(inplace = True)\n",
    "    df = reader[['CityLocation', 'InvestorsName']]\n",
    "    df['CityLocation'].dropna(inplace = True)\n",
    "    df['CityLocation'].replace(\"Delhi\", \"New Delhi\", inplace = True)\n",
    "    df['CityLocation'].replace(\"bangalore\", \"Bangalore\", inplace = True)\n",
    "    d= {}\n",
    "    for index, row in df.iterrows():\n",
    "        if(type(row['CityLocation']) == float or type(row['InvestorsName']) == float):\n",
    "            continue;\n",
    "        location = row['CityLocation']\n",
    "        inves = row['InvestorsName'].split(',')\n",
    "        location = location.strip().rstrip()\n",
    "        inves = list(map(str.strip, inves))\n",
    "        inves = list(map(str.rstrip, inves))\n",
    "        inves = list(map(str.title, inves))\n",
    "        if('/' in location):\n",
    "            k = location.split('/')\n",
    "            k = list(map(str.strip, k))\n",
    "            k = list(map(str.rstrip, k))\n",
    "            for i in range(2):\n",
    "                if(k[i] in cities):\n",
    "                    for j in inves:\n",
    "                        if(j == \"Undisclosed Investors\" or j == \"\") :\n",
    "                            continue\n",
    "                        if(j in d):\n",
    "                            d[j] += 1\n",
    "                        else :\n",
    "                            d[j] = 1\n",
    "        if(location in cities):\n",
    "            for i in inves:\n",
    "                if(i == \"Undisclosed Investors\" or i == \"\"):\n",
    "                    continue\n",
    "                if(i in d):\n",
    "                    d[i] += 1\n",
    "                else:\n",
    "                    d[i] = 1\n",
    "#     for i in d:\n",
    "#         print(i, d[i])\n",
    "k = Counter(d) \n",
    "high = k.most_common(5)  \n",
    "for i in high:\n",
    "    print(i[0], i[1])"
   ]
  },
  {
   "cell_type": "markdown",
   "metadata": {},
   "source": [
    "### Top Investors(Improvised)"
   ]
  },
  {
   "cell_type": "code",
   "execution_count": 155,
   "metadata": {},
   "outputs": [
    {
     "name": "stdout",
     "output_type": "stream",
     "text": [
      "Sequoia Capital 40\n",
      "Accel Partners 38\n",
      "Blume Ventures 32\n",
      "Indian Angel Network 32\n",
      "Kalaari Capital 30\n"
     ]
    }
   ],
   "source": [
    "pd.options.mode.chained_assignment = None\n",
    "cities = {\"Bangalore\", \"Mumbai\", \"Gurgaon\", \"Noida\", \"New Delhi\"}\n",
    "with open(\"startup_funding.csv\") as file_obj:\n",
    "    reader = pd.read_csv(file_obj)\n",
    "#     reader = reader[pd.notna(reader['CityLocation'])]\n",
    "#     reader = reader[pd.notna(reader['InvestorsName'])]\n",
    "#     reader = reader[pd.notna(reader['StartupName'])]\n",
    "    reader['CityLocation'].replace(\"Delhi\", \"New Delhi\", inplace = True)\n",
    "    reader['CityLocation'].replace(\"bangalore\", \"Bangalore\", inplace = True)\n",
    "    reader['StartupName'].replace(\"Flipkart.com\", \"Flipkart\", inplace = True)\n",
    "    reader['StartupName'].replace(\"Ola Cabs\", \"Ola\",inplace = True)\n",
    "    reader['StartupName'].replace(\"Olacabs\", \"Ola\",inplace = True)\n",
    "    reader['StartupName'].replace(\"OYO Rooms\", \"Oyo\",inplace = True)\n",
    "    reader['StartupName'].replace(\"Oyo Rooms\", \"Oyo\",inplace = True)\n",
    "    reader['StartupName'].replace(\"OyoRooms\", \"Oyo\",inplace = True)\n",
    "    reader['StartupName'].replace(\"Oyorooms\", \"Oyo\",inplace = True)\n",
    "    reader['StartupName'].replace(\"Paytm Marketplace\", \"Paytm\",inplace = True)\n",
    "    reader = reader[pd.notnull(reader['CityLocation'])]\n",
    "    reader = reader[pd.notnull(reader['InvestorsName'])]\n",
    "    reader = reader[pd.notnull(reader['StartupName'])]\n",
    "    \n",
    "    d = {}\n",
    "    visited = set()\n",
    "    \n",
    "    for index, row in reader.iterrows():\n",
    "        location = row['CityLocation']\n",
    "        inves = row['InvestorsName'].split(',')\n",
    "        company = row['StartupName'];\n",
    "        location = location.strip().rstrip()\n",
    "        inves = list(map(str.strip, inves))\n",
    "        inves = list(map(str.rstrip, inves))\n",
    "        inves = list(map(str.title, inves))\n",
    "        if('/' in location):\n",
    "            k = location.split('/')\n",
    "            k = list(map(str.strip, k))\n",
    "            k = list(map(str.rstrip, k))\n",
    "            for i in range(2):\n",
    "                if(k[i] in cities):\n",
    "                    for j in inves:\n",
    "                        if(j == \"Undisclosed Investors\" or j == \"\") :\n",
    "                            continue\n",
    "                        if((j+company) in visited):\n",
    "                            continue;\n",
    "                        if(j in d):\n",
    "                            d[j] += 1\n",
    "                        else :\n",
    "                            d[j] = 1\n",
    "                        visited.add(j+company)\n",
    "        if(location in cities):\n",
    "            for i in inves:\n",
    "                if(i == \"Undisclosed Investors\" or i == \"\"):\n",
    "                    continue\n",
    "                if((i+company) in visited):\n",
    "                    continue;\n",
    "                if(i in d):\n",
    "                    d[i] += 1\n",
    "                else:\n",
    "                    d[i] = 1\n",
    "                visited.add(i+company)\n",
    "# print(d)\n",
    "k = Counter(d) \n",
    "high = k.most_common(5)  \n",
    "for i in high:\n",
    "    print(i[0], i[1])"
   ]
  },
  {
   "cell_type": "markdown",
   "metadata": {},
   "source": [
    "### Investors on the basis of type of investment"
   ]
  },
  {
   "cell_type": "code",
   "execution_count": 164,
   "metadata": {
    "scrolled": true
   },
   "outputs": [
    {
     "name": "stdout",
     "output_type": "stream",
     "text": [
      "Indian Angel Network 25\n",
      "Rajan Anandan 20\n",
      "Kunal Shah 13\n",
      "Letsventure 13\n",
      "Anupam Mittal 13\n"
     ]
    }
   ],
   "source": [
    "pd.options.mode.chained_assignment = None\n",
    "cities = {\"Bangalore\", \"Mumbai\", \"Gurgaon\", \"Noida\", \"New Delhi\"}\n",
    "with open(\"startup_funding.csv\") as file_obj:\n",
    "    reader = pd.read_csv(file_obj)\n",
    "#     reader = reader[pd.notna(reader['CityLocation'])]\n",
    "#     reader = reader[pd.notna(reader['InvestorsName'])]\n",
    "#     reader = reader[pd.notna(reader['StartupName'])]\n",
    "    reader['CityLocation'].replace(\"Delhi\", \"New Delhi\", inplace = True)\n",
    "    reader['CityLocation'].replace(\"bangalore\", \"Bangalore\", inplace = True)\n",
    "    reader['StartupName'].replace(\"Flipkart.com\", \"Flipkart\", inplace = True)\n",
    "    reader['StartupName'].replace(\"Ola Cabs\", \"Ola\",inplace = True)\n",
    "    reader['StartupName'].replace(\"Olacabs\", \"Ola\",inplace = True)\n",
    "    reader['StartupName'].replace(\"OYO Rooms\", \"Oyo\",inplace = True)\n",
    "    reader['StartupName'].replace(\"Oyo Rooms\", \"Oyo\",inplace = True)\n",
    "    reader['StartupName'].replace(\"OyoRooms\", \"Oyo\",inplace = True)\n",
    "    reader['StartupName'].replace(\"Oyorooms\", \"Oyo\",inplace = True)\n",
    "    reader['StartupName'].replace(\"Paytm Marketplace\", \"Paytm\",inplace = True)\n",
    "    reader['InvestmentType'].replace(\"PrivateEquity\", \"Private Equity\", inplace = True)\n",
    "    reader['InvestmentType'].replace(\"SeedFunding\", \"Seed Funding\", inplace = True)\n",
    "    reader['InvestmentType'].replace(\"Crowd funding\", \"Crowd Funding\", inplace = True)\n",
    "    reader = reader[pd.notnull(reader['CityLocation'])]\n",
    "    reader = reader[pd.notnull(reader['InvestorsName'])]\n",
    "    reader = reader[pd.notnull(reader['StartupName'])]\n",
    "    \n",
    "    d = {}\n",
    "    visited = set()\n",
    "    \n",
    "    for index, row in reader.iterrows():\n",
    "        if(row['InvestmentType'] == \"Seed Funding\" or row['InvestmentType'] == 'Crowd Funding'):\n",
    "            \n",
    "            location = row['CityLocation']\n",
    "            inves = row['InvestorsName'].split(',')\n",
    "            company = row['StartupName'];\n",
    "            location = location.strip().rstrip()\n",
    "            inves = list(map(str.strip, inves))\n",
    "            inves = list(map(str.rstrip, inves))\n",
    "            inves = list(map(str.title, inves))\n",
    "            if('/' in location):\n",
    "                k = location.split('/')\n",
    "                k = list(map(str.strip, k))\n",
    "                k = list(map(str.rstrip, k))\n",
    "                for i in range(2):\n",
    "                    if(k[i] in cities):\n",
    "                        for j in inves:\n",
    "                            if(j == \"Undisclosed Investors\" or j == \"\" or j == \"Undisclosed Investor\") : \n",
    "                                continue\n",
    "                            if((j+company) in visited):\n",
    "                                continue;\n",
    "                            if(j in d):\n",
    "                                d[j] += 1\n",
    "                            else :\n",
    "                                d[j] = 1\n",
    "                            visited.add(j+company)\n",
    "            if(location in cities):\n",
    "                for i in inves:\n",
    "                    if(i == \"Undisclosed Investors\" or i == \"\" or i == \"Undisclosed Investor\"):\n",
    "                        continue\n",
    "                    if((i+company) in visited):\n",
    "                        continue;\n",
    "                    if(i in d):\n",
    "                        d[i] += 1\n",
    "                    else:\n",
    "                        d[i] = 1\n",
    "                    visited.add(i+company)\n",
    "# print(d)\n",
    "k = Counter(d) \n",
    "high = k.most_common(5)  \n",
    "for i in high:\n",
    "    print(i[0], i[1])"
   ]
  },
  {
   "cell_type": "markdown",
   "metadata": {},
   "source": [
    "### Private Equity Investors"
   ]
  },
  {
   "cell_type": "code",
   "execution_count": 166,
   "metadata": {
    "scrolled": true
   },
   "outputs": [
    {
     "name": "stdout",
     "output_type": "stream",
     "text": [
      "Sequoia Capital 38\n",
      "Accel Partners 34\n",
      "Kalaari Capital 26\n",
      "Blume Ventures 24\n",
      "Saif Partners 24\n"
     ]
    }
   ],
   "source": [
    "pd.options.mode.chained_assignment = None\n",
    "cities = {\"Bangalore\", \"Mumbai\", \"Gurgaon\", \"Noida\", \"New Delhi\"}\n",
    "with open(\"startup_funding.csv\") as file_obj:\n",
    "    reader = pd.read_csv(file_obj)\n",
    "#     reader = reader[pd.notna(reader['CityLocation'])]\n",
    "#     reader = reader[pd.notna(reader['InvestorsName'])]\n",
    "#     reader = reader[pd.notna(reader['StartupName'])]\n",
    "    reader['CityLocation'].replace(\"Delhi\", \"New Delhi\", inplace = True)\n",
    "    reader['CityLocation'].replace(\"bangalore\", \"Bangalore\", inplace = True)\n",
    "    reader['StartupName'].replace(\"Flipkart.com\", \"Flipkart\", inplace = True)\n",
    "    reader['StartupName'].replace(\"Ola Cabs\", \"Ola\",inplace = True)\n",
    "    reader['StartupName'].replace(\"Olacabs\", \"Ola\",inplace = True)\n",
    "    reader['StartupName'].replace(\"OYO Rooms\", \"Oyo\",inplace = True)\n",
    "    reader['StartupName'].replace(\"Oyo Rooms\", \"Oyo\",inplace = True)\n",
    "    reader['StartupName'].replace(\"OyoRooms\", \"Oyo\",inplace = True)\n",
    "    reader['StartupName'].replace(\"Oyorooms\", \"Oyo\",inplace = True)\n",
    "    reader['StartupName'].replace(\"Paytm Marketplace\", \"Paytm\",inplace = True)\n",
    "    reader['InvestmentType'].replace(\"PrivateEquity\", \"Private Equity\", inplace = True)\n",
    "    reader['InvestmentType'].replace(\"SeedFunding\", \"Seed Funding\", inplace = True)\n",
    "    reader['InvestmentType'].replace(\"Crowd funding\", \"Crowd Funding\", inplace = True)\n",
    "    reader = reader[pd.notnull(reader['CityLocation'])]\n",
    "    reader = reader[pd.notnull(reader['InvestorsName'])]\n",
    "    reader = reader[pd.notnull(reader['StartupName'])]\n",
    "    \n",
    "    d = {}\n",
    "    visited = set()\n",
    "    \n",
    "    for index, row in reader.iterrows():\n",
    "        if(row['InvestmentType'] == \"Private Equity\"):\n",
    "            \n",
    "            location = row['CityLocation']\n",
    "            inves = row['InvestorsName'].split(',')\n",
    "            company = row['StartupName'];\n",
    "            location = location.strip().rstrip()\n",
    "            inves = list(map(str.strip, inves))\n",
    "            inves = list(map(str.rstrip, inves))\n",
    "            inves = list(map(str.title, inves))\n",
    "            if('/' in location):\n",
    "                k = location.split('/')\n",
    "                k = list(map(str.strip, k))\n",
    "                k = list(map(str.rstrip, k))\n",
    "                for i in range(2):\n",
    "                    if(k[i] in cities):\n",
    "                        for j in inves:\n",
    "                            if(j == \"Undisclosed Investors\" or j == \"\" or j == \"Undisclosed Investor\") : \n",
    "                                continue\n",
    "                            if((j+company) in visited):\n",
    "                                continue;\n",
    "                            if(j in d):\n",
    "                                d[j] += 1\n",
    "                            else :\n",
    "                                d[j] = 1\n",
    "                            visited.add(j+company)\n",
    "            if(location in cities):\n",
    "                for i in inves:\n",
    "                    if(i == \"Undisclosed Investors\" or i == \"\" or i == \"Undisclosed Investor\"):\n",
    "                        continue\n",
    "                    if((i+company) in visited):\n",
    "                        continue;\n",
    "                    if(i in d):\n",
    "                        d[i] += 1\n",
    "                    else:\n",
    "                        d[i] = 1\n",
    "                    visited.add(i+company)\n",
    "# print(d)\n",
    "k = Counter(d) \n",
    "high = k.most_common(5)  \n",
    "for i in high:\n",
    "    print(i[0], i[1])"
   ]
  }
 ],
 "metadata": {
  "kernelspec": {
   "display_name": "Python 3",
   "language": "python",
   "name": "python3"
  },
  "language_info": {
   "codemirror_mode": {
    "name": "ipython",
    "version": 3
   },
   "file_extension": ".py",
   "mimetype": "text/x-python",
   "name": "python",
   "nbconvert_exporter": "python",
   "pygments_lexer": "ipython3",
   "version": "3.7.3"
  }
 },
 "nbformat": 4,
 "nbformat_minor": 2
}
